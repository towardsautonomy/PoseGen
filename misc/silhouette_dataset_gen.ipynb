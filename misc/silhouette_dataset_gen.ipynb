{
 "cells": [
  {
   "cell_type": "markdown",
   "id": "filled-technique",
   "metadata": {},
   "source": [
    "## Import Packages"
   ]
  },
  {
   "cell_type": "code",
   "execution_count": 1,
   "id": "scenic-lancaster",
   "metadata": {},
   "outputs": [],
   "source": [
    "import os\n",
    "import torch\n",
    "import matplotlib.pyplot as plt\n",
    "from skimage.io import imread\n",
    "from skimage import img_as_ubyte\n",
    "\n",
    "# import pytorch\n",
    "import torch.nn as nn\n",
    "import torch.nn.functional as F\n",
    "from tqdm.notebook import tqdm\n",
    "\n",
    "# Util function for loading meshes\n",
    "from pytorch3d.io import load_objs_as_meshes, load_obj\n",
    "\n",
    "# Data structures and functions for rendering\n",
    "from pytorch3d.structures import Meshes\n",
    "from pytorch3d.vis.plotly_vis import AxisArgs, plot_batch_individually, plot_scene\n",
    "from pytorch3d.vis.texture_vis import texturesuv_image_matplotlib\n",
    "from pytorch3d.renderer import (\n",
    "    look_at_view_transform,\n",
    "    look_at_rotation,\n",
    "    get_world_to_view_transform,\n",
    "    FoVPerspectiveCameras, \n",
    "    PerspectiveCameras,\n",
    "    PointLights, \n",
    "    DirectionalLights, \n",
    "    Materials, \n",
    "    RasterizationSettings, \n",
    "    MeshRenderer, \n",
    "    SoftSilhouetteShader,\n",
    "    MeshRasterizer,  \n",
    "    SoftPhongShader,\n",
    "    TexturesUV,\n",
    "    TexturesVertex,\n",
    "    BlendParams,\n",
    "    Textures\n",
    ")\n",
    "from pytorch3d.transforms import (\n",
    "    euler_angles_to_matrix,\n",
    "    axis_angle_to_matrix\n",
    ")\n",
    "\n",
    "# add path for demo utils functions \n",
    "import sys\n",
    "import os\n",
    "sys.path.append(os.path.abspath(''))"
   ]
  },
  {
   "cell_type": "markdown",
   "id": "surgical-posting",
   "metadata": {},
   "source": [
    "## Setup"
   ]
  },
  {
   "cell_type": "code",
   "execution_count": 2,
   "id": "numerical-perception",
   "metadata": {},
   "outputs": [
    {
     "name": "stdout",
     "output_type": "stream",
     "text": [
      "Using device: cuda:0\n"
     ]
    }
   ],
   "source": [
    "# device\n",
    "if torch.cuda.is_available():\n",
    "    device = torch.device(\"cuda:0\")\n",
    "    torch.cuda.set_device(device)\n",
    "else:\n",
    "    device = torch.device(\"cpu\")\n",
    "print('Using device: {}'.format(device))\n",
    "# Set paths\n",
    "# DATA_DIR = \"/home/shubham/workspace/ford/SiriusRenderNet/data/cr3\"\n",
    "# obj_filename = os.path.join(DATA_DIR, \"textured_output.obj\")\n",
    "# DATA_DIR = \"/floppy/datasets/PoseGen/Car 3D Models/Tesla\"\n",
    "# obj_filename = os.path.join(DATA_DIR, \"Tesla Model.obj\")\n",
    "DATA_DIR = \"/floppy/datasets/PoseGen/Car 3D Models/Audi\"\n",
    "obj_filename = os.path.join(DATA_DIR, \"audi_scaled.obj\")\n",
    "\n",
    "\n",
    "# Load obj file\n",
    "mesh = load_objs_as_meshes([obj_filename], device=device)\n",
    "# verts, faces_idx, _ = load_obj(obj_filename)\n",
    "# faces = faces_idx.verts_idx\n",
    "\n",
    "# # Initialize each vertex to be white in color.\n",
    "# verts_rgb = torch.ones_like(verts)[None] # (1, V, 3)\n",
    "# textures = Textures(verts_rgb=verts_rgb.to(device))\n",
    "\n",
    "# # Create a Meshes object for the teapot. Here we have only one mesh in the batch.\n",
    "# mesh = Meshes(\n",
    "# verts=[verts.to(device)],\n",
    "# faces=[faces.to(device)],\n",
    "# textures=textures\n",
    "# )"
   ]
  },
  {
   "cell_type": "markdown",
   "id": "clear-railway",
   "metadata": {},
   "source": [
    "## Define transformation functions"
   ]
  },
  {
   "cell_type": "code",
   "execution_count": 3,
   "id": "literary-stevens",
   "metadata": {},
   "outputs": [],
   "source": [
    "import numpy as np\n",
    "def rotx(t):\n",
    "    \"\"\"Rotation about the x-axis.\"\"\"\n",
    "    c = np.cos(t)\n",
    "    s = np.sin(t)\n",
    "    return np.array([[1,  0,  0],\n",
    "                     [0,  c, -s],\n",
    "                     [0,  s,  c]])\n",
    "\n",
    "\n",
    "def roty(t):\n",
    "    \"\"\"Rotation about the y-axis.\"\"\"\n",
    "    c = np.cos(t)\n",
    "    s = np.sin(t)\n",
    "    return np.array([[c,  0,  s],\n",
    "                     [0,  1,  0],\n",
    "                     [-s, 0,  c]])\n",
    "\n",
    "\n",
    "def rotz(t):\n",
    "    \"\"\"Rotation about the z-axis.\"\"\"\n",
    "    c = np.cos(t)\n",
    "    s = np.sin(t)\n",
    "    return np.array([[c, -s,  0],\n",
    "                     [s,  c,  0],\n",
    "                     [0,  0,  1]])\n",
    "\n",
    "def rot_mat(rx, ry, rz):\n",
    "    return np.dot(rotx(rx), np.dot(roty(ry), rotz(rz)))\n",
    "\n",
    "def transform_from_rot_trans(R, t):\n",
    "    \"\"\"Transforation matrix from rotation matrix and translation vector.\"\"\"\n",
    "    R = R.reshape(3, 3)\n",
    "    t = t.reshape(3, 1)\n",
    "    return np.vstack((np.hstack([R, t]), [0, 0, 0, 1]))\n",
    "\n",
    "def transformation_mat(rx, ry, rz, tx, ty, tz):\n",
    "    R = rot_mat(rx, ry, rz)\n",
    "    t = np.array([tx, ty, tz], dtype=np.float32)\n",
    "    return transform_from_rot_trans(R, t)"
   ]
  },
  {
   "cell_type": "markdown",
   "id": "neutral-calcium",
   "metadata": {},
   "source": [
    "## Create a Renderer\n",
    "\n",
    "A renderer in PyTorch3D is composed of a rasterizer and a shader which each have a number of subcomponents such as a camera (orthographic/perspective). Here we initialize some of these components and use default values for the rest.\n",
    "\n",
    "Here, we will first create a renderer which uses a perspective camera, a point light and applies phong shading. "
   ]
  },
  {
   "cell_type": "code",
   "execution_count": 4,
   "id": "expired-narrative",
   "metadata": {},
   "outputs": [
    {
     "name": "stdout",
     "output_type": "stream",
     "text": [
      "Rotation:\n",
      "tensor([[[-1.,  0.,  0.],\n",
      "         [ 0.,  1.,  0.],\n",
      "         [ 0.,  0., -1.]]])\n",
      "Translation:\n",
      "tensor([[0., 0., 3.]])\n"
     ]
    }
   ],
   "source": [
    "# Initialize a camera.\n",
    "R, T = look_at_view_transform(dist=3.0, elev=0.0, azim=0.0) \n",
    "T = torch.Tensor([[0.0, 0.0, 3.0]])\n",
    "# define camera\n",
    "cameras = FoVPerspectiveCameras(device=device, R=R, T=T)\n",
    "\n",
    "img_size = (720, 1280)\n",
    "# print transformation matrix\n",
    "print('Rotation:\\n{}'.format(R))\n",
    "print('Translation:\\n{}'.format(T))\n",
    "\n",
    "# Blending Parameters\n",
    "blend_params = BlendParams(sigma=1e-4, gamma=1e-4)\n",
    "\n",
    "# Define the settings for rasterization and shading. \n",
    "# Let's set faces_per_pixel=1 and blur_radius=0.0. \n",
    "# We also set bin_size and max_faces_per_bin to None which ensure that \n",
    "# the faster coarse-to-fine rasterization method is used. Refer to rasterize_meshes.py for \n",
    "# explanations of these parameters. Refer to docs/notes/renderer.md for an explanation of \n",
    "# the difference between naive and coarse-to-fine rasterization. \n",
    "raster_settings=RasterizationSettings(\n",
    "            image_size=img_size, \n",
    "            blur_radius=np.log(1. / 1e-4 - 1.) * blend_params.sigma, \n",
    "            faces_per_pixel=100, \n",
    "        )\n",
    "\n",
    "# Create a silhouette mesh renderer by composing a rasterizer and a shader. \n",
    "silhouette_renderer = MeshRenderer(\n",
    "    rasterizer=MeshRasterizer(\n",
    "        cameras=cameras, \n",
    "        raster_settings=raster_settings\n",
    "    ),\n",
    "    shader=SoftSilhouetteShader(blend_params=blend_params)\n",
    ")\n",
    "\n",
    "# Place a point light in front of the object.\n",
    "lights = PointLights(device=device, location=[[0.0, 0.0, -3.0]])\n",
    "\n",
    "# Create a phong renderer by composing a rasterizer and a shader. The textured phong shader will \n",
    "# interpolate the texture uv coordinates for each vertex, sample from a texture image and \n",
    "# apply the Phong lighting model\n",
    "renderer = MeshRenderer(\n",
    "    rasterizer=MeshRasterizer(\n",
    "        cameras=cameras, \n",
    "        raster_settings=raster_settings\n",
    "    ),\n",
    "#     shader=SoftPhongShader(\n",
    "#         device=device, \n",
    "#         cameras=cameras,\n",
    "#         lights=lights\n",
    "#     )\n",
    "    shader=SoftSilhouetteShader(blend_params=blend_params)\n",
    ")"
   ]
  },
  {
   "cell_type": "markdown",
   "id": "endangered-relative",
   "metadata": {},
   "source": [
    "## Render the mesh"
   ]
  },
  {
   "cell_type": "code",
   "execution_count": 5,
   "id": "intensive-polls",
   "metadata": {},
   "outputs": [
    {
     "data": {
      "image/png": "[encoded data removed]",
      "text/plain": [
       "<Figure size 1440x720 with 2 Axes>"
      ]
     },
     "metadata": {
      "needs_background": "light"
     },
     "output_type": "display_data"
    }
   ],
   "source": [
    "images = renderer(meshes_world=mesh, R=R.to(device), T=T.to(device))\n",
    "silhouette = silhouette_renderer(meshes_world=mesh, R=R.to(device), T=T.to(device))\n",
    "mask = silhouette > torch.Tensor([0.0]).to(device)\n",
    "silhouette[mask] = silhouette[mask] / silhouette[mask] # set everything > 0. to 1.0\n",
    "plt.figure(figsize=(20, 10))\n",
    "plt.subplot(1,2,1)\n",
    "plt.imshow(images[0, ..., :3].cpu().numpy())\n",
    "plt.title('Rendered Image')\n",
    "plt.grid(\"off\");\n",
    "plt.axis(\"off\");\n",
    "plt.subplot(1,2,2)\n",
    "plt.imshow(silhouette[0, ..., 3].cpu().numpy(), cmap='gray') # plot only the alpha channel of RGBA\n",
    "plt.title('Rendered Silhouette')\n",
    "plt.grid(\"off\");\n",
    "plt.axis(\"off\");"
   ]
  },
  {
   "cell_type": "markdown",
   "id": "tough-multimedia",
   "metadata": {},
   "source": [
    "## Render the images"
   ]
  },
  {
   "cell_type": "code",
   "execution_count": 14,
   "id": "valid-blink",
   "metadata": {},
   "outputs": [
    {
     "name": "stdout",
     "output_type": "stream",
     "text": [
      "Rendering image: [3071/3072]"
     ]
    }
   ],
   "source": [
    "import itertools\n",
    "from PIL import Image\n",
    "\n",
    "dst_dir = '/floppy/datasets/PoseGen/rendered_silhouette'\n",
    "if not os.path.exists(dst_dir):\n",
    "    os.system('mkdir -p {}'.format(dst_dir))\n",
    "    \n",
    "x_range = np.arange(-0.5, 0.5, 0.3)\n",
    "y_range = np.arange(-0.5, 0.5, 0.3)\n",
    "z_range = np.arange(4.0, 6.0, 0.5)\n",
    "yaw_range = np.array(list(np.arange(0.0, 120.0, 5.0))+list(np.arange(240.0, 360.0, 5.0)))\n",
    "\n",
    "var_range = list(itertools.product(x_range, y_range, z_range, yaw_range))\n",
    "for i, [x, y, z, yaw] in enumerate(var_range):\n",
    "    print('\\rRendering image: [{}/{}]'.format(i, len(var_range)), end='')\n",
    "    # Initialize a camera.\n",
    "    R, T = look_at_view_transform(dist=3.0, elev=0.0, azim=yaw) \n",
    "    T = torch.Tensor([[x, y, z]])\n",
    "    # define camera\n",
    "    cameras = FoVPerspectiveCameras(device=device, R=R, T=T)\n",
    "\n",
    "    img_size = (256, 256)\n",
    "\n",
    "    # Blending Parameters\n",
    "    blend_params = BlendParams(sigma=1e-4, gamma=1e-4)\n",
    "\n",
    "    # Define the settings for rasterization and shading. \n",
    "    # Let's set faces_per_pixel=1 and blur_radius=0.0. \n",
    "    # We also set bin_size and max_faces_per_bin to None which ensure that \n",
    "    # the faster coarse-to-fine rasterization method is used. Refer to rasterize_meshes.py for \n",
    "    # explanations of these parameters. Refer to docs/notes/renderer.md for an explanation of \n",
    "    # the difference between naive and coarse-to-fine rasterization. \n",
    "    raster_settings=RasterizationSettings(\n",
    "                image_size=img_size, \n",
    "                blur_radius=np.log(1. / 1e-4 - 1.) * blend_params.sigma, \n",
    "                faces_per_pixel=100, \n",
    "            )\n",
    "\n",
    "    # Create a silhouette mesh renderer by composing a rasterizer and a shader. \n",
    "    silhouette_renderer = MeshRenderer(\n",
    "        rasterizer=MeshRasterizer(\n",
    "            cameras=cameras, \n",
    "            raster_settings=raster_settings\n",
    "        ),\n",
    "        shader=SoftSilhouetteShader(blend_params=blend_params)\n",
    "    )\n",
    "\n",
    "    # Place a point light in front of the object.\n",
    "    lights = PointLights(device=device, location=[[0.0, 0.0, -3.0]])\n",
    "\n",
    "    # Create a phong renderer by composing a rasterizer and a shader. The textured phong shader will \n",
    "    # interpolate the texture uv coordinates for each vertex, sample from a texture image and \n",
    "    # apply the Phong lighting model\n",
    "    renderer = MeshRenderer(\n",
    "        rasterizer=MeshRasterizer(\n",
    "            cameras=cameras, \n",
    "            raster_settings=raster_settings\n",
    "        ),\n",
    "    #     shader=SoftPhongShader(\n",
    "    #         device=device, \n",
    "    #         cameras=cameras,\n",
    "    #         lights=lights\n",
    "    #     )\n",
    "        shader=SoftSilhouetteShader(blend_params=blend_params)\n",
    "    )\n",
    "    \n",
    "    silhouette = silhouette_renderer(meshes_world=mesh, R=R.to(device), T=T.to(device))\n",
    "    mask = silhouette > torch.Tensor([0.0]).to(device)\n",
    "    silhouette[mask] = silhouette[mask] / silhouette[mask] # set everything > 0. to 1.0\n",
    "    \n",
    "    # filename\n",
    "    fname = os.path.join(dst_dir, str(i).zfill(6)+'.png')\n",
    "    sil_rgb = Image.fromarray(silhouette[0, ..., 3].cpu().numpy()*255.0).convert(\"RGB\")\n",
    "    sil_rgb.save(fname)"
   ]
  },
  {
   "cell_type": "code",
   "execution_count": null,
   "id": "8fe4e202-959a-44b1-ab5a-adf5b579929a",
   "metadata": {},
   "outputs": [],
   "source": []
  }
 ],
 "metadata": {
  "kernelspec": {
   "display_name": "posegen",
   "language": "python",
   "name": "posegen"
  },
  "language_info": {
   "codemirror_mode": {
    "name": "ipython",
    "version": 3
   },
   "file_extension": ".py",
   "mimetype": "text/x-python",
   "name": "python",
   "nbconvert_exporter": "python",
   "pygments_lexer": "ipython3",
   "version": "3.9.7"
  }
 },
 "nbformat": 4,
 "nbformat_minor": 5
}
